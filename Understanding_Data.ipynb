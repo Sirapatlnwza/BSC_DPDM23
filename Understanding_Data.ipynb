{
  "cells": [
    {
      "cell_type": "markdown",
      "metadata": {
        "id": "view-in-github",
        "colab_type": "text"
      },
      "source": [
        "<a href=\"https://colab.research.google.com/github/Sirapatlnwza/BSC_DPDM23/blob/main/Understanding_Data.ipynb\" target=\"_parent\"><img src=\"https://colab.research.google.com/assets/colab-badge.svg\" alt=\"Open In Colab\"/></a>"
      ]
    },
    {
      "cell_type": "markdown",
      "source": [
        "#Load data"
      ],
      "metadata": {
        "id": "MO6BS_MpB2m4"
      }
    },
    {
      "cell_type": "code",
      "source": [
        "import pandas as pd"
      ],
      "metadata": {
        "id": "az0XtmvqEofE"
      },
      "execution_count": null,
      "outputs": []
    },
    {
      "cell_type": "markdown",
      "source": [
        "#Load Excel from Gdrive"
      ],
      "metadata": {
        "id": "qGOuxKd1EWhO"
      }
    },
    {
      "cell_type": "code",
      "source": [
        "# mounting colab with google drive\n",
        "from google.colab import drive\n",
        "drive.mount('/content/drive')\n"
      ],
      "metadata": {
        "colab": {
          "base_uri": "https://localhost:8080/"
        },
        "id": "WU9UskYcEty6",
        "outputId": "94e0b7ab-dca4-49d8-f1b4-4a299215af26"
      },
      "execution_count": 11,
      "outputs": [
        {
          "output_type": "stream",
          "name": "stdout",
          "text": [
            "Mounted at /content/drive\n"
          ]
        }
      ]
    },
    {
      "cell_type": "code",
      "source": [
        "from google.colab import drive\n",
        "drive.mount('/content/drive')"
      ],
      "metadata": {
        "id": "NXo6l58LGeaP"
      },
      "execution_count": null,
      "outputs": []
    },
    {
      "cell_type": "code",
      "source": [
        "data_from_"
      ],
      "metadata": {
        "id": "GxYZgdzCFVzn"
      },
      "execution_count": null,
      "outputs": []
    },
    {
      "cell_type": "markdown",
      "source": [
        "#Load Gsheet"
      ],
      "metadata": {
        "id": "uQhQ2_3YEf8t"
      }
    },
    {
      "cell_type": "code",
      "source": [
        "from google.colab import auth\n",
        "auth.authenticate_user()\n",
        "\n",
        "import gspread\n",
        "from google.auth import default\n",
        "creds,_=default()\n",
        "\n",
        "gc=gspread.authorize(creds)"
      ],
      "metadata": {
        "id": "4OPPDCmMIjNv"
      },
      "execution_count": 12,
      "outputs": []
    },
    {
      "cell_type": "code",
      "source": [
        "gsht = gc.open_by_key('/content/drive/MyDrive/Mining/2563.gsheet')"
      ],
      "metadata": {
        "id": "kxjKTSTKJc6r"
      },
      "execution_count": 16,
      "outputs": []
    },
    {
      "cell_type": "code",
      "source": [],
      "metadata": {
        "id": "7Zncga5WJdDw"
      },
      "execution_count": null,
      "outputs": []
    },
    {
      "cell_type": "markdown",
      "source": [
        "#Basic stats"
      ],
      "metadata": {
        "id": "c79HWW3wB67L"
      }
    },
    {
      "cell_type": "markdown",
      "source": [
        "#Visualization"
      ],
      "metadata": {
        "id": "nRxkvYWHB-hp"
      }
    },
    {
      "cell_type": "markdown",
      "source": [
        "#Distance similarity"
      ],
      "metadata": {
        "id": "K6k7uvW1Chj2"
      }
    }
  ],
  "metadata": {
    "colab": {
      "provenance": [],
      "include_colab_link": true
    },
    "kernelspec": {
      "display_name": "Python 3",
      "name": "python3"
    }
  },
  "nbformat": 4,
  "nbformat_minor": 0
}